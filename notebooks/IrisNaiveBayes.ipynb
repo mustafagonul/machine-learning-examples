{
 "cells": [
  {
   "cell_type": "code",
   "execution_count": 1,
   "metadata": {},
   "outputs": [
    {
     "name": "stdout",
     "output_type": "stream",
     "text": [
      "(0.99999999937919637, 6.2080364040585798e-10)\n"
     ]
    }
   ],
   "source": [
    "#%matplotlib inline\n",
    "import numpy as np\n",
    "import math\n",
    "import pandas as pd\n",
    "import scipy.stats  as stats\n",
    "\n",
    "\n",
    "def naive_bayes(df, feature_labels, target_label, target_class, values):\n",
    "    probability_true = 1.0\n",
    "    probability_false = 1.0\n",
    "    \n",
    "    feature_count = len(feature_labels)\n",
    "    \n",
    "    df_true = df[df[target_label] == target_class]\n",
    "    df_false = df[df[target_label] != target_class]\n",
    "    \n",
    "    for i in range(feature_count):\n",
    "        feature = feature_labels[i]\n",
    "        value = values[i]\n",
    "        \n",
    "        feature_true = df_true[feature]\n",
    "        feature_true_mean = feature_true.mean()\n",
    "        feature_true_std = feature_true.std()\n",
    "        feature_true_norm = stats.norm.pdf(x=value,\n",
    "                                           loc=feature_true_mean,\n",
    "                                           scale=feature_true_std)\n",
    "        \n",
    "        feature_false = df_false[feature]\n",
    "        feature_false_mean = feature_false.mean()\n",
    "        feature_false_std = feature_false.std()\n",
    "        feature_false_norm = stats.norm.pdf(x=value,\n",
    "                                            loc=feature_false_mean,\n",
    "                                            scale=feature_false_std)\n",
    "        \n",
    "        probability_true *= feature_true_norm\n",
    "        probability_false *= feature_false_norm\n",
    "        \n",
    "    probability_total = probability_true + probability_false\n",
    "    probability_true /= probability_total\n",
    "    probability_false /= probability_total\n",
    "    \n",
    "    return probability_true, probability_false\n",
    "    \n",
    "    \n",
    "def iris_naive_bayes():\n",
    "    df_iris = pd.read_csv(u'../data/iris.txt', sep=' ')\n",
    "\n",
    "    feature_labels = ['sl','sw','pl','pw']\n",
    "    target_label = 'c'\n",
    "    target_class = 1\n",
    "    values = np.array([4.7, 3.2, 1.3, 0.2])\n",
    "    \n",
    "    result = naive_bayes(df_iris, feature_labels, target_label, target_class, values)\n",
    "    \n",
    "    print(result)\n",
    "\n",
    "\n",
    "iris_naive_bayes()"
   ]
  }
 ],
 "metadata": {
  "kernelspec": {
   "display_name": "Python 3",
   "language": "python",
   "name": "python3"
  },
  "language_info": {
   "codemirror_mode": {
    "name": "ipython",
    "version": 3
   },
   "file_extension": ".py",
   "mimetype": "text/x-python",
   "name": "python",
   "nbconvert_exporter": "python",
   "pygments_lexer": "ipython3",
   "version": "3.6.3"
  }
 },
 "nbformat": 4,
 "nbformat_minor": 2
}
