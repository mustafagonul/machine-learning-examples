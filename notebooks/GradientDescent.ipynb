{
 "cells": [
  {
   "cell_type": "markdown",
   "metadata": {},
   "source": [
    "### Gradient Descent Algorithm\n",
    "\n",
    "\\begin{align}\n",
    "w(0) & = \\text{some initial value for} \\; \\tau = 1, 2,\\dots \\; w(\\tau) = w(\\tau-1) - \\eta \\nabla E(w(\\tau-1))\n",
    "\\end{align}\n",
    "\n",
    "\n",
    "| Symbol           | Meaning                                                        |\n",
    "|:-----------------|:---------------------------------------------------------------|\n",
    "| $$\\tau$$         | Iteration number                                               |\n",
    "| $$w$$            | Coefficients vector                                            |\n",
    "| $$w(\\tau)$$      | Coefficients vector at **$\\tau$** iteration                    |\n",
    "| $$\\eta$$         | Learning rate                                                  |\n",
    "| $$\\nabla$$       | Gradient function                                              |\n",
    "| $$E(w(\\tau-1))$$ | Error function with **w** coefficients at **$\\tau$** iteration |\n",
    "\n",
    "---\n",
    "\n",
    "\\begin{align}\n",
    "\\theta = \\theta - \\eta \\nabla_{\\theta} J(\\theta)\n",
    "\\end{align}"
   ]
  },
  {
   "cell_type": "code",
   "execution_count": 3,
   "metadata": {},
   "outputs": [
    {
     "name": "stdout",
     "output_type": "stream",
     "text": [
      "0 : 15.9938818182\n",
      "1 : 11.6346546383\n",
      "2 : 8.57455118197\n",
      "3 : 6.4263659935\n",
      "4 : 4.91830088281\n",
      "5 : 3.85956758638\n",
      "6 : 3.11624261595\n",
      "7 : 2.5943186121\n",
      "8 : 2.2278072717\n",
      "9 : 1.97038821883\n"
     ]
    }
   ],
   "source": [
    "%matplotlib inline\n",
    "import matplotlib.pylab as plt\n",
    "\n",
    "import time\n",
    "from IPython import display\n",
    "import numpy as np\n",
    "\n",
    "\n",
    "#y = np.array([7.46, 6.77, 12.74, 7.11, 7.81, 8.84, 6.08, 5.39, 8.15, 6.42, 5.73])\n",
    "y = np.array([8.04, 6.95, 7.58, 8.81, 8.33, 9.96, 7.24, 4.26, 10.84, 4.82, 5.68])\n",
    "#y = np.array([9.14, 8.14, 8.74, 8.77, 9.26, 8.10, 6.13, 3.10, 9.13, 7.26, 4.74])\n",
    "x = np.array([10., 8., 13., 9., 11., 14., 6., 4., 12., 7., 5.])\n",
    "N = len(x)\n",
    "\n",
    "# Design matrix\n",
    "A = np.vstack((np.ones(N), x)).T\n",
    "# A = np.vstack((np.ones(N), x, x**2, x**3)).T\n",
    "\n",
    "# Learning rate\n",
    "eta = 0.01\n",
    "              \n",
    "# Initial parameters\n",
    "w = np.array([2., 1.,])\n",
    "# w = np.array([2., 1., 0.1, 0.001])\n",
    "\n",
    "# Chart\n",
    "f = A.dot(w)\n",
    "\n",
    "# loop\n",
    "for epoch in range(10):\n",
    "    # Error\n",
    "    err = y - A.dot(w)\n",
    "    \n",
    "    # Total error\n",
    "    E = np.sum(err ** 2) / N\n",
    "    \n",
    "    # Gradient\n",
    "    dE = -2. * A.T.dot(err) / N\n",
    "    \n",
    "    if epoch % 1 == 0: \n",
    "        print(epoch, ':', E)    \n",
    "\n",
    "    # Perfom one descent step\n",
    "    w = w - eta * dE\n"
   ]
  }
 ],
 "metadata": {
  "kernelspec": {
   "display_name": "Python 3",
   "language": "python",
   "name": "python3"
  },
  "language_info": {
   "codemirror_mode": {
    "name": "ipython",
    "version": 3
   },
   "file_extension": ".py",
   "mimetype": "text/x-python",
   "name": "python",
   "nbconvert_exporter": "python",
   "pygments_lexer": "ipython3",
   "version": "3.6.3"
  }
 },
 "nbformat": 4,
 "nbformat_minor": 2
}
