{
 "cells": [
  {
   "cell_type": "code",
   "execution_count": 1,
   "metadata": {},
   "outputs": [
    {
     "name": "stdout",
     "output_type": "stream",
     "text": [
      "0 : 253.620021909\n",
      "1 : 5923352875.48\n",
      "2 : 1.43399218111e+17\n",
      "3 : 3.47157027299e+24\n",
      "4 : 8.40436950711e+31\n",
      "5 : 2.03462471613e+39\n",
      "6 : 4.92564936844e+46\n",
      "7 : 1.19245684516e+54\n",
      "8 : 2.886834245e+61\n",
      "9 : 6.98877447176e+68\n"
     ]
    }
   ],
   "source": [
    "%matplotlib inline\n",
    "import matplotlib.pylab as plt\n",
    "\n",
    "import time\n",
    "from IPython import display\n",
    "import numpy as np\n",
    "\n",
    "\n",
    "#y = np.array([7.46, 6.77, 12.74, 7.11, 7.81, 8.84, 6.08, 5.39, 8.15, 6.42, 5.73])\n",
    "y = np.array([8.04, 6.95, 7.58, 8.81, 8.33, 9.96, 7.24, 4.26, 10.84, 4.82, 5.68])\n",
    "#y = np.array([9.14, 8.14, 8.74, 8.77, 9.26, 8.10, 6.13, 3.10, 9.13, 7.26, 4.74])\n",
    "x = np.array([10., 8., 13., 9., 11., 14., 6., 4., 12., 7., 5.])\n",
    "N = len(x)\n",
    "\n",
    "# Design matrix\n",
    "A = np.vstack((np.ones(N), x, x**2, x**3)).T\n",
    "\n",
    "# Learning rate\n",
    "alpha = 0.0014088\n",
    "beta = 0.95\n",
    "              \n",
    "# Initial parameters\n",
    "w = np.array([2., 1., 0.1, 0.001])\n",
    "p = np.zeros(4)\n",
    "\n",
    "# Chart\n",
    "f = A.dot(w)\n",
    "\n",
    "# loop\n",
    "for epoch in range(10):\n",
    "    # Error\n",
    "    err = y - A.dot(w)\n",
    "    \n",
    "    # Total error\n",
    "    E = np.sum(err ** 2) / N\n",
    "    \n",
    "    # Gradient\n",
    "    dE = -2. * A.T.dot(err) / N\n",
    "    p = dE + beta * p\n",
    "    \n",
    "    if epoch % 1 == 0: \n",
    "        print(epoch, ':', E)   \n",
    "        \n",
    "    # Perfom one descent step\n",
    "    w = w - alpha * p\n"
   ]
  },
  {
   "cell_type": "code",
   "execution_count": null,
   "metadata": {
    "collapsed": true
   },
   "outputs": [],
   "source": []
  }
 ],
 "metadata": {
  "kernelspec": {
   "display_name": "Python 3",
   "language": "python",
   "name": "python3"
  },
  "language_info": {
   "codemirror_mode": {
    "name": "ipython",
    "version": 3
   },
   "file_extension": ".py",
   "mimetype": "text/x-python",
   "name": "python",
   "nbconvert_exporter": "python",
   "pygments_lexer": "ipython3",
   "version": "3.6.2"
  }
 },
 "nbformat": 4,
 "nbformat_minor": 2
}
